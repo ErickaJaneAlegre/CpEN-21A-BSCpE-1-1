{
  "nbformat": 4,
  "nbformat_minor": 0,
  "metadata": {
    "colab": {
      "name": "Midterm Exam.ipynb",
      "provenance": [],
      "collapsed_sections": [],
      "authorship_tag": "ABX9TyM8SZ4ju5lzbizGn73P3Jnu",
      "include_colab_link": true
    },
    "kernelspec": {
      "name": "python3",
      "display_name": "Python 3"
    },
    "language_info": {
      "name": "python"
    }
  },
  "cells": [
    {
      "cell_type": "markdown",
      "metadata": {
        "id": "view-in-github",
        "colab_type": "text"
      },
      "source": [
        "<a href=\"https://colab.research.google.com/github/erickaalgr/CpEN-21A-BSCpE-1-1/blob/main/Midterm_Exam.ipynb\" target=\"_parent\"><img src=\"https://colab.research.google.com/assets/colab-badge.svg\" alt=\"Open In Colab\"/></a>"
      ]
    },
    {
      "cell_type": "markdown",
      "metadata": {
        "id": "TKrAcdEBiceX"
      },
      "source": [
        "#Midterm Exam"
      ]
    },
    {
      "cell_type": "markdown",
      "metadata": {
        "id": "xv3mL9Q9xoQE"
      },
      "source": [
        "###PROBLEM STATEMENT 1"
      ]
    },
    {
      "cell_type": "code",
      "metadata": {
        "colab": {
          "base_uri": "https://localhost:8080/"
        },
        "id": "df8wnKMliHTV",
        "outputId": "e16e44a9-eb37-431f-897c-2502e97100d6"
      },
      "source": [
        "Name= \"Ericka Jane A. Alegre\"\n",
        "StudendtNumber = 202101777\n",
        "Age = \"18 years old\"\n",
        "Birthday = \"November 24, 2003\"\n",
        "Address = \"Kanluran, Kayrilaw, Nasugbu, Batangas\"\n",
        "Course = \"Bachelor of Science in Computer Engineering\"\n",
        "GWA = 95.800\n",
        "print(Name)\n",
        "print(StudentNumber)\n",
        "print(Age)\n",
        "print(Birthday)\n",
        "print(Address)\n",
        "print(Course)\n",
        "print(GWA)\n"
      ],
      "execution_count": null,
      "outputs": [
        {
          "output_type": "stream",
          "name": "stdout",
          "text": [
            "Ericka Jane A. Alegre\n",
            "202101777\n",
            "18 years old\n",
            "November 24, 2003\n",
            "Kanluran, Kayrilaw, Nasugbu, Batangas\n",
            "Bachelor of Science in Computer Engineering\n",
            "95.8\n"
          ]
        }
      ]
    },
    {
      "cell_type": "markdown",
      "metadata": {
        "id": "AxkkZt5vyA1J"
      },
      "source": [
        "###PROBLEM STATEMENT 2"
      ]
    },
    {
      "cell_type": "code",
      "metadata": {
        "colab": {
          "base_uri": "https://localhost:8080/"
        },
        "id": "oylN31Mylsy5",
        "outputId": "ed3974d4-284d-4bea-ea2a-f06148354cf9"
      },
      "source": [
        "n=4\n",
        "answ= \"Y\"\n",
        "print((2<n) and (n<6))\n",
        "print((2<n) or (n==6))\n",
        "print(not(2<n) or (n==6))\n",
        "print(not(n<6))\n",
        "print((answ==\"Y\") or (answ==\"y\"))\n",
        "print((answ==\"Y\") and (answ==\"y\"))\n",
        "print(not(answ==\"y\"))\n",
        "print(((2<n) and (n==5+1)) or (answ==\"No\"))\n",
        "print(((n==2)and(n==7)) or (answ==\"Y\"))\n",
        "print((n==2) and ((n==7) or(answ==\"Y\")))"
      ],
      "execution_count": 50,
      "outputs": [
        {
          "output_type": "stream",
          "name": "stdout",
          "text": [
            "True\n",
            "True\n",
            "False\n",
            "False\n",
            "True\n",
            "False\n",
            "True\n",
            "False\n",
            "True\n",
            "False\n"
          ]
        }
      ]
    },
    {
      "cell_type": "markdown",
      "metadata": {
        "id": "6qier_mLyW2y"
      },
      "source": [
        "###PROBLEM STATEMENT 3"
      ]
    },
    {
      "cell_type": "code",
      "metadata": {
        "id": "Ja9gKNitty1C",
        "colab": {
          "base_uri": "https://localhost:8080/"
        },
        "outputId": "23424170-ce4f-447f-c5c9-74ff27e231c1"
      },
      "source": [
        "w = 7\n",
        "x = 2\n",
        "y = -3\n",
        "z = -10\n",
        "a = x/y\n",
        "b = w/y/x\n",
        "c = z/y%x\n",
        "d = x%-y*w\n",
        "e = x%y\n",
        "f = z%w-y/x*5+5\n",
        "g = 9-x%(2+y)\n",
        "h = z//w\n",
        "i = (2+y)**2\n",
        "j = w/x*2\n",
        "print(a)\n",
        "print(b)\n",
        "print(c)\n",
        "print(d)\n",
        "print(e)\n",
        "print(f)\n",
        "print(g)\n",
        "print(h)\n",
        "print(i)\n",
        "print(j)"
      ],
      "execution_count": 58,
      "outputs": [
        {
          "output_type": "stream",
          "name": "stdout",
          "text": [
            "-0.6666666666666666\n",
            "-1.1666666666666667\n",
            "1.3333333333333335\n",
            "14\n",
            "-1\n",
            "16.5\n",
            "9\n",
            "-2\n",
            "1\n",
            "7.0\n"
          ]
        }
      ]
    }
  ]
}