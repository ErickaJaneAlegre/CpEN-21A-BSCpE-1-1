{
  "cells": [
    {
      "cell_type": "markdown",
      "metadata": {
        "id": "view-in-github",
        "colab_type": "text"
      },
      "source": [
        "<a href=\"https://colab.research.google.com/github/erickaalgr/CpEN-21A-BSCpE-1-1/blob/main/Final_Exam.ipynb\" target=\"_parent\"><img src=\"https://colab.research.google.com/assets/colab-badge.svg\" alt=\"Open In Colab\"/></a>"
      ]
    },
    {
      "cell_type": "markdown",
      "metadata": {
        "id": "aL32TJzk4bwa"
      },
      "source": [
        "##Pre Final Exam\n",
        "\n",
        "##CONTROL AND LOOPING STATEMENT"
      ]
    },
    {
      "cell_type": "markdown",
      "metadata": {
        "id": "i6q1fOjE5dFj"
      },
      "source": [
        "### PROBLEM STATEMENT 1\n",
        "\n",
        "  Create a Python program that will produce an output of sum of 10 numbers than using FOR LOOP statement. (30 points)"
      ]
    },
    {
      "cell_type": "code",
      "execution_count": null,
      "metadata": {
        "colab": {
          "base_uri": "https://localhost:8080/"
        },
        "id": "h469tyhX4Hkv",
        "outputId": "69f0a603-378c-4d87-cb3b-e605f96dc2b8"
      },
      "outputs": [
        {
          "name": "stdout",
          "output_type": "stream",
          "text": [
            "The sum of 10 numbers less than 5 is -5\n"
          ]
        }
      ],
      "source": [
        "sum=0\n",
        "num=[4, 3, 2, 1, 0, -1, -2, -3, -4, -5]\n",
        "for x in num:\n",
        " sum= sum + x\n",
        "print(\"The sum of 10 numbers less than 5 is\", sum)"
      ]
    },
    {
      "cell_type": "markdown",
      "metadata": {
        "id": "ymkW7L3B6GK9"
      },
      "source": [
        "###PROBLEM STATEMENT 2\n",
        "\n",
        "  Create a Python program that will produce accept five numbers and determine the sum of first and last number among five numbers entered using WHILE LOOP statement. (35 points)"
      ]
    },
    {
      "cell_type": "code",
      "execution_count": 23,
      "metadata": {
        "id": "D85jDAwLJv5n",
        "colab": {
          "base_uri": "https://localhost:8080/"
        },
        "outputId": "67defcf2-ddaf-4e08-d675-e31b58dcf21b"
      },
      "outputs": [
        {
          "output_type": "stream",
          "name": "stdout",
          "text": [
            "First number:  786\n",
            "Second number: 231\n",
            "Third number:  408\n",
            "Fourth number: 635\n",
            "Fifth number:  179\n",
            "The sum of first and last number is  965\n"
          ]
        }
      ],
      "source": [
        "num1=int(input(\"First number:  \"))\n",
        "while(num1!=0):\n",
        "  num2=int(input('Second number: '))\n",
        "  num3=int(input('Third number:  '))\n",
        "  num4=int(input('Fourth number: '))\n",
        "  num5=int(input('Fifth number:  '))\n",
        "  break\n",
        "while(num5!=0):\n",
        "  sum=num1+num5\n",
        "  print(\"The sum of first and last number is \",sum)\n",
        "  num1+=1\n",
        "  break"
      ]
    },
    {
      "cell_type": "markdown",
      "metadata": {
        "id": "y9N1p2aQ6fGm"
      },
      "source": [
        "###PROBLEM STATEMENT 3\n",
        "\n",
        "  Create a Python program to calculate student grades. It accepts a numerical grade as input and it will display the character grade as output based on the given scale using Nested If-Else statement.(35 points)"
      ]
    },
    {
      "cell_type": "code",
      "execution_count": null,
      "metadata": {
        "colab": {
          "base_uri": "https://localhost:8080/"
        },
        "id": "b9HhDsreui_6",
        "outputId": "60b3565d-c1ec-4f2f-e065-79726241c536"
      },
      "outputs": [
        {
          "name": "stdout",
          "output_type": "stream",
          "text": [
            "Enter your Numerical Grade: 77\n",
            "Character Grade: C\n"
          ]
        }
      ],
      "source": [
        "#This cell uses Nested If-Else statement.\n",
        "\n",
        "grade= int(input(\"Enter your Numerical Grade: \"))\n",
        "\n",
        "\n",
        "if grade>=90:\n",
        "  print(\"Character Grade: A\")\n",
        "else:\n",
        "  if grade>=80 and grade<=89:\n",
        "    print(\"Character Grade: B\")\n",
        "  else:\n",
        "    if grade>=70 and grade<=79:\n",
        "      print(\"Character Grade: C\")\n",
        "    else:\n",
        "      if grade>=60 and grade<=69:\n",
        "        print(\"Character Grade: D\")\n",
        "      else:\n",
        "        print(\"Character Grade: F\")"
      ]
    },
    {
      "cell_type": "code",
      "execution_count": null,
      "metadata": {
        "colab": {
          "base_uri": "https://localhost:8080/"
        },
        "id": "DbGtTlVN7IU9",
        "outputId": "444b7dc6-c22c-4a98-bb6f-65cf651f6b5a"
      },
      "outputs": [
        {
          "name": "stdout",
          "output_type": "stream",
          "text": [
            "Enter your Numerical Grade: 83\n",
            "Character Grade: B\n"
          ]
        }
      ],
      "source": [
        "#This cell uses If-Elif-Else Statement.\n",
        "\n",
        "grade= int(input(\"Enter your Numerical Grade: \"))\n",
        "\n",
        "if grade>=90:\n",
        "  print(\"Character Grade: A\")\n",
        "elif grade>=80 and grade<=89:\n",
        "  print(\"Character Grade: B\")\n",
        "elif grade>=70 and grade<=79:\n",
        "  print(\"Character Grade: C\")\n",
        "elif grade>=60 and grade<=69:\n",
        "  print(\"Character Grade: D\")\n",
        "else:\n",
        "  print(\"Character Grade: F\")"
      ]
    }
  ],
  "metadata": {
    "colab": {
      "collapsed_sections": [],
      "name": "Final Exam.ipynb",
      "provenance": [],
      "toc_visible": true,
      "authorship_tag": "ABX9TyMWTj0G8VaJgOkxqoXWp9Aw",
      "include_colab_link": true
    },
    "kernelspec": {
      "display_name": "Python 3",
      "name": "python3"
    },
    "language_info": {
      "name": "python"
    }
  },
  "nbformat": 4,
  "nbformat_minor": 0
}