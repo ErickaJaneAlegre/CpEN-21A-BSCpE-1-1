{
  "nbformat": 4,
  "nbformat_minor": 0,
  "metadata": {
    "colab": {
      "name": "Lab1.ipynb",
      "provenance": [],
      "authorship_tag": "ABX9TyPwWB12fsT6TvgVEhs7E3Vp",
      "include_colab_link": true
    },
    "kernelspec": {
      "name": "python3",
      "display_name": "Python 3"
    },
    "language_info": {
      "name": "python"
    }
  },
  "cells": [
    {
      "cell_type": "markdown",
      "metadata": {
        "id": "view-in-github",
        "colab_type": "text"
      },
      "source": [
        "<a href=\"https://colab.research.google.com/github/erickaalgr/CpEN-21A-BSCpE-1-1/blob/main/Lab1.ipynb\" target=\"_parent\"><img src=\"https://colab.research.google.com/assets/colab-badge.svg\" alt=\"Open In Colab\"/></a>"
      ]
    },
    {
      "cell_type": "markdown",
      "metadata": {
        "id": "tQDlRsyXUwxH"
      },
      "source": [
        "### **Laboratory 1**"
      ]
    },
    {
      "cell_type": "code",
      "metadata": {
        "colab": {
          "base_uri": "https://localhost:8080/"
        },
        "id": "GBUb97XnZm25",
        "outputId": "513c8c05-91c2-4d43-d8d3-40c191230dd8"
      },
      "source": [
        "x = \"Welcome to Python Programming\"\n",
        "print(x)"
      ],
      "execution_count": 3,
      "outputs": [
        {
          "output_type": "stream",
          "name": "stdout",
          "text": [
            "Welcome to Python Programming\n"
          ]
        }
      ]
    },
    {
      "cell_type": "code",
      "metadata": {
        "colab": {
          "base_uri": "https://localhost:8080/"
        },
        "id": "rnsP4UgSZ2bF",
        "outputId": "86a4fdd0-42b5-4b91-9423-7471eec2eb93"
      },
      "source": [
        "name = \"Ericka Jane A. Alegre\"\n",
        "print(name)"
      ],
      "execution_count": 5,
      "outputs": [
        {
          "output_type": "stream",
          "name": "stdout",
          "text": [
            "Ericka Jane A. Alegre\n"
          ]
        }
      ]
    },
    {
      "cell_type": "code",
      "metadata": {
        "colab": {
          "base_uri": "https://localhost:8080/"
        },
        "id": "pLfbKn7fah0O",
        "outputId": "5e5ab308-0140-4974-803c-5769cf783548"
      },
      "source": [
        "st = \" Kanluran,\"\n",
        "brgy = \" Kayrilaw,\"\n",
        "mun = \" Nasugbu,\"\n",
        "prov = \" Batangas\"\n",
        "print(st+brgy+mun+prov)"
      ],
      "execution_count": 11,
      "outputs": [
        {
          "output_type": "stream",
          "name": "stdout",
          "text": [
            " Kanluran, Kayrilaw, Nasugbu, Batangas\n"
          ]
        }
      ]
    },
    {
      "cell_type": "code",
      "metadata": {
        "colab": {
          "base_uri": "https://localhost:8080/"
        },
        "id": "_nm25-jlgdwK",
        "outputId": "91146119-6acc-4c07-e954-e96f40910eb1"
      },
      "source": [
        "age = \"17 years old\"\n",
        "print(age)"
      ],
      "execution_count": 12,
      "outputs": [
        {
          "output_type": "stream",
          "name": "stdout",
          "text": [
            "17 years old\n"
          ]
        }
      ]
    }
  ]
}